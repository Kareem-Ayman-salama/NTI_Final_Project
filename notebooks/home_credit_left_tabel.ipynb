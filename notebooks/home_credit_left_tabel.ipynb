{
 "cells": [
  {
   "cell_type": "code",
   "execution_count": null,
   "id": "0594b22b-1546-4f73-b8ec-e4f2ff44df2e",
   "metadata": {},
   "outputs": [],
   "source": [
    "bureau = pd.read_csv('/kaggle/input/home-credit-default-risk/bureau.csv')\n",
    "bureau.head()"
   ]
  },
  {
   "cell_type": "code",
   "execution_count": null,
   "id": "9bf132cf-f158-4b7f-869d-e32dd71cd394",
   "metadata": {},
   "outputs": [],
   "source": [
    "bureau.shape"
   ]
  },
  {
   "cell_type": "code",
   "execution_count": null,
   "id": "a4ff5c98-2fdd-4d14-bbbb-9b9c9d4cf051",
   "metadata": {},
   "outputs": [],
   "source": [
    "bureau.info()"
   ]
  },
  {
   "cell_type": "code",
   "execution_count": null,
   "id": "3d444d8d-5dd8-4de2-b450-0c9fc42872c5",
   "metadata": {},
   "outputs": [],
   "source": [
    "bureau.describe()"
   ]
  },
  {
   "cell_type": "code",
   "execution_count": null,
   "id": "0dc59553-0535-48a8-904b-2a7b2fff43fc",
   "metadata": {},
   "outputs": [],
   "source": [
    "## separating the categorical features and numerical features\n",
    "num_cols_bureau = list(set(bureau.describe().columns.to_list()) - set (['SK_ID_CURR','SK_ID_BUREAU']))\n",
    "cat_cols_bureau = list(set(bureau.columns.to_list()) - set(num_cols_bureau)-set (['SK_ID_CURR','SK_ID_BUREAU']))"
   ]
  },
  {
   "cell_type": "code",
   "execution_count": null,
   "id": "7ca47057-b742-4f12-b9fa-29b8c7b3879b",
   "metadata": {},
   "outputs": [],
   "source": [
    "bureau[num_cols_bureau].head()"
   ]
  },
  {
   "cell_type": "code",
   "execution_count": null,
   "id": "7704f7e0-1b45-4705-9b89-f42fd09b4c03",
   "metadata": {},
   "outputs": [],
   "source": [
    "bureau[num_cols_bureau].shape"
   ]
  },
  {
   "cell_type": "code",
   "execution_count": null,
   "id": "6d44027b-ab1a-4233-8491-8c61f0d4ed89",
   "metadata": {},
   "outputs": [],
   "source": [
    "bureau[num_cols_bureau].info()"
   ]
  },
  {
   "cell_type": "code",
   "execution_count": null,
   "id": "243df2eb-9d0f-46a5-9f69-1578632e6ea9",
   "metadata": {},
   "outputs": [],
   "source": [
    "#show number of nullvalue in numericaldata only\n",
    "bureau[num_cols_bureau].isna().sum()"
   ]
  },
  {
   "cell_type": "code",
   "execution_count": null,
   "id": "bec02bdf-2f8d-4c37-a7a8-3daf2a93ecfa",
   "metadata": {},
   "outputs": [],
   "source": [
    "# حساب القيم المفقودة للأعمدة الرقمية فقط\n",
    "nulls_num_df = bureau[num_cols_bureau].isna().sum().reset_index().rename(columns = { 0 : \"Nulls_Count\"}).sort_values(by=\"Nulls_Count\", ascending=False)\n",
    "\n",
    "# عرض الأعمدة التي تحتوي على قيم مفقودة\n",
    "nulls_num_df[nulls_num_df[\"Nulls_Count\"] > 0]\n"
   ]
  },
  {
   "cell_type": "code",
   "execution_count": null,
   "id": "4e4986e6-9c71-4a1a-907c-0368de840e19",
   "metadata": {},
   "outputs": [],
   "source": [
    "columns_to_drop=['AMT_ANNUITY','AMT_CREDIT_MAX_OVERDUE']\n",
    "bureau.drop(columns=columns_to_drop, inplace=True, errors='ignore')\n"
   ]
  },
  {
   "cell_type": "code",
   "execution_count": null,
   "id": "b43eef6d-9c65-4d37-b7eb-e13113d2a226",
   "metadata": {},
   "outputs": [],
   "source": [
    "# حذف الصفوف التي تحتوي على null في العمود AMT_CREDIT_SUM بشكل نهائي\n",
    "bureau = bureau.dropna(subset=['AMT_CREDIT_SUM','DAYS_CREDIT_ENDDATE'])\n",
    "\n",
    "# عرض البيانات للتأكد من الحذف\n",
    "print(bureau.isna().sum())  # لن يظهر أي قيم null في AMT_CREDIT_SUM\n"
   ]
  },
  {
   "cell_type": "code",
   "execution_count": null,
   "id": "cd6507a3-c0e8-4fef-904a-4a75ca8e3955",
   "metadata": {},
   "outputs": [],
   "source": [
    "#تعويض القيم المفقودة باستخدام الوسيط\n",
    "bureau['AMT_CREDIT_SUM_DEBT'] = bureau['AMT_CREDIT_SUM_DEBT'].fillna(0)\n"
   ]
  },
  {
   "cell_type": "code",
   "execution_count": null,
   "id": "dbf77d3c-2ec8-4941-aea5-add1ca6e0f3f",
   "metadata": {},
   "outputs": [],
   "source": [
    "# تعويض القيم المفقودة باستخدام الوسيط\n",
    "bureau['AMT_CREDIT_SUM_LIMIT'] = bureau['AMT_CREDIT_SUM_LIMIT'].fillna(bureau['AMT_CREDIT_SUM_LIMIT'].median())"
   ]
  },
  {
   "cell_type": "code",
   "execution_count": null,
   "id": "58d22bbe-f23f-4f8f-a9b8-d97449686c66",
   "metadata": {},
   "outputs": [],
   "source": [
    "# تعويض القيم المفقودة باستخدام الوسيط\n",
    "bureau['DAYS_ENDDATE_FACT'] = bureau['DAYS_ENDDATE_FACT'].fillna(bureau['DAYS_ENDDATE_FACT'].median())"
   ]
  },
  {
   "cell_type": "code",
   "execution_count": null,
   "id": "1740ebbc-3d17-4ef1-a99b-375f685f3eb9",
   "metadata": {},
   "outputs": [],
   "source": [
    "## separating the categorical features and numerical features\n",
    "num_cols_bureau = list(set(bureau.describe().columns.to_list()) - set (['SK_ID_CURR','SK_ID_BUREAU']))\n",
    "cat_cols_bureau = list(set(bureau.columns.to_list()) - set(num_cols_bureau)-set (['SK_ID_CURR','SK_ID_BUREAU']))"
   ]
  },
  {
   "cell_type": "code",
   "execution_count": null,
   "id": "961ed778-d953-4c70-a1da-f0b17a80c020",
   "metadata": {},
   "outputs": [],
   "source": [
    "# حساب القيم المفقودة للأعمدة الرقمية فقط\n",
    "nulls_num_df = bureau[num_cols_bureau].isna().sum().reset_index().rename(columns = { 0 : \"Nulls_Count\"}).sort_values(by=\"Nulls_Count\", ascending=False)\n",
    "\n",
    "# عرض الأعمدة التي تحتوي على قيم مفقودة\n",
    "nulls_num_df[nulls_num_df[\"Nulls_Count\"] > 0]\n"
   ]
  },
  {
   "cell_type": "code",
   "execution_count": null,
   "id": "a8a838c4-31f7-4a98-aa98-7fd106878be8",
   "metadata": {},
   "outputs": [],
   "source": [
    "bureau[num_cols_bureau].shape"
   ]
  },
  {
   "cell_type": "code",
   "execution_count": null,
   "id": "ce9629d6-1a64-4a3f-8678-4d390ffa3a60",
   "metadata": {},
   "outputs": [],
   "source": [
    "bureau[num_cols_bureau].head()"
   ]
  },
  {
   "cell_type": "code",
   "execution_count": null,
   "id": "4834e03a-84b6-434a-a2ae-eec193ae21da",
   "metadata": {},
   "outputs": [],
   "source": [
    "# حذف جميع القيم المكررة بناءً على جميع الأعمدة\n",
    "bureau.drop_duplicates(inplace=True)\n"
   ]
  },
  {
   "cell_type": "code",
   "execution_count": null,
   "id": "fea83419-94a0-4c3a-ad93-46d7f2a01004",
   "metadata": {},
   "outputs": [],
   "source": [
    "import matplotlib.pyplot as plt\n",
    "import seaborn as sns\n",
    "\n",
    "# تحديد الأعمدة الرقمية\n",
    "num_cols_bureau = bureau.select_dtypes(include=['float64', 'int64']).columns\n",
    "\n",
    "# رسم Boxplot للأعمدة الرقمية\n",
    "plt.figure(figsize=(12, 8))\n",
    "sns.boxplot(data=bureau[num_cols_bureau])\n",
    "plt.title('Boxplot of Numeric Columns with Outliers')\n",
    "\n",
    "# تدوير الأسماء على المحور X لتصبح أوضح\n",
    "plt.xticks(rotation=90)\n",
    "\n",
    "plt.show()\n"
   ]
  },
  {
   "cell_type": "code",
   "execution_count": null,
   "id": "5f944711-2032-48a4-bdcb-90aebdd6cfee",
   "metadata": {},
   "outputs": [],
   "source": [
    "# حساب Q1 و Q3 و IQR للأعمدة\n",
    "Q1 = bureau[['AMT_CREDIT_SUM', 'AMT_CREDIT_SUM_DEBT']].quantile(0.25)\n",
    "Q3 = bureau[['AMT_CREDIT_SUM', 'AMT_CREDIT_SUM_DEBT']].quantile(0.75)\n",
    "IQR = Q3 - Q1\n",
    "\n",
    "# تحديد الحدود المسموح بها\n",
    "lower_bound = Q1 - 1.5 * IQR\n",
    "upper_bound = Q3 + 1.5 * IQR\n",
    "\n",
    "# إزالة القيم الشاذة من البيانات الأصلية\n",
    "bureau = bureau[~((bureau[['AMT_CREDIT_SUM', 'AMT_CREDIT_SUM_DEBT']] < lower_bound) | \n",
    "                  (bureau[['AMT_CREDIT_SUM', 'AMT_CREDIT_SUM_DEBT']] > upper_bound)).any(axis=1)]\n",
    "\n",
    "# عرض البيانات بعد إزالة القيم الشاذة\n",
    "bureau.head()\n"
   ]
  },
  {
   "cell_type": "code",
   "execution_count": null,
   "id": "9bd106ca-73a5-4519-b7c9-ddc923b29f81",
   "metadata": {},
   "outputs": [],
   "source": []
  },
  {
   "cell_type": "code",
   "execution_count": null,
   "id": "a43fa900-cf6a-40f7-8b18-493c592a4cd4",
   "metadata": {},
   "outputs": [],
   "source": []
  }
 ],
 "metadata": {
  "kernelspec": {
   "display_name": "Python 3 (ipykernel)",
   "language": "python",
   "name": "python3"
  },
  "language_info": {
   "codemirror_mode": {
    "name": "ipython",
    "version": 3
   },
   "file_extension": ".py",
   "mimetype": "text/x-python",
   "name": "python",
   "nbconvert_exporter": "python",
   "pygments_lexer": "ipython3",
   "version": "3.11.7"
  }
 },
 "nbformat": 4,
 "nbformat_minor": 5
}
